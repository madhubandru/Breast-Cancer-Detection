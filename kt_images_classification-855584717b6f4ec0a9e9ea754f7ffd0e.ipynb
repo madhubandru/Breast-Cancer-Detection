{
 "cells": [
  {
   "cell_type": "markdown",
   "metadata": {
    "id": "8iI-ANShNJ3r"
   },
   "source": [
    "### Transfer learning in Ktrain\n",
    "(image-classification) \n",
    "\n",
    "https://nbviewer.jupyter.org/github/amaiya/ktrain/blob/master/examples/vision/planet-ResNet50.ipynb\n",
    "https://nbviewer.jupyter.org/github/amaiya/ktrain/blob/master/tutorials/tutorial-03-image-classification.ipynb"
   ]
  },
  {
   "cell_type": "markdown",
   "metadata": {
    "id": "7-P-eMQsV1py"
   },
   "source": [
    "   The target dataset is small and different from the base training dataset.\n",
    "Since the data is small, overfitting is a concern. Hence, we train only the linear layers. But as the target dataset is very different from the base dataset, the higher level features in the ConvNet would not be of any relevance to the target dataset. So, the new network will only use the lower level features of the base ConvNet. To implement this scheme, we:\n",
    "\n",
    "  1. Remove most of the pre-trained layers near the beginning of the ConvNet\n",
    "  2. Add to the remaining pre-trained layers new fully connected layers that match the number of classes in the new dataset\n",
    "  3. Randomize the weights of the new fully connected layers and freeze all the weights from the pre-trained network\n",
    "  4. Train the network to update the weights of the new fully connected layers\n"
   ]
  },
  {
   "cell_type": "markdown",
   "metadata": {
    "id": "vzVPXglTNJ3d"
   },
   "source": [
    "### Breast Cancer Detection\n",
    "Score\n",
    "\n",
    "\n",
    "https://dphi.tech/challenges/data-sprint-31-breast-cancer-detection/75/overview/about"
   ]
  },
  {
   "cell_type": "code",
   "execution_count": 1,
   "metadata": {
    "colab": {
     "base_uri": "https://localhost:8080/"
    },
    "id": "DMLALN7LNJ3t",
    "outputId": "30190921-e8f4-4374-cae1-e9ac2c16e0fd"
   },
   "outputs": [
    {
     "name": "stdout",
     "output_type": "stream",
     "text": [
      "Mounted at /content/drive\n"
     ]
    }
   ],
   "source": [
    "# Подключим Google-disk и загрузим с него данные\n",
    "from google.colab import drive\n",
    "drive.mount('/content/drive')"
   ]
  },
  {
   "cell_type": "code",
   "execution_count": 2,
   "metadata": {
    "id": "ZJKbzRGMNJ39"
   },
   "outputs": [],
   "source": [
    "!unzip -q /content/drive/MyDrive/Datasets/mammography_images.zip"
   ]
  },
  {
   "cell_type": "code",
   "execution_count": 3,
   "metadata": {
    "id": "9dYJ7wEinEQi"
   },
   "outputs": [],
   "source": [
    "!mkdir test\n",
    "!mv mammography_images/test/ test"
   ]
  },
  {
   "cell_type": "code",
   "execution_count": null,
   "metadata": {
    "id": "5uTkULGaU0uj"
   },
   "outputs": [],
   "source": [
    "#!cp  /content/gdrive/My\\ Drive/model_weights.h5 ./"
   ]
  },
  {
   "cell_type": "code",
   "execution_count": 9,
   "metadata": {
    "colab": {
     "base_uri": "https://localhost:8080/"
    },
    "id": "-zo76XBQNJ4g",
    "outputId": "a36d554c-8a44-424c-e56b-d90fb3ad81a9"
   },
   "outputs": [
    {
     "name": "stdout",
     "output_type": "stream",
     "text": [
      "sample_submission.csv  Testing_set.csv\ttrain  Training_set.csv\n"
     ]
    }
   ],
   "source": [
    "!ls mammography_images"
   ]
  },
  {
   "cell_type": "code",
   "execution_count": 5,
   "metadata": {
    "colab": {
     "base_uri": "https://localhost:8080/"
    },
    "id": "snnd_m3-NJ42",
    "outputId": "4c1c507b-0d77-4416-ba37-44b55004b12f"
   },
   "outputs": [
    {
     "name": "stdout",
     "output_type": "stream",
     "text": [
      "\u001b[K     |████████████████████████████████| 25.3MB 129kB/s \n",
      "\u001b[K     |████████████████████████████████| 6.8MB 56.9MB/s \n",
      "\u001b[K     |████████████████████████████████| 983kB 52.4MB/s \n",
      "\u001b[K     |████████████████████████████████| 266kB 51.8MB/s \n",
      "\u001b[K     |████████████████████████████████| 1.9MB 49.4MB/s \n",
      "\u001b[K     |████████████████████████████████| 1.2MB 41.5MB/s \n",
      "\u001b[K     |████████████████████████████████| 471kB 49.4MB/s \n",
      "\u001b[K     |████████████████████████████████| 3.3MB 52.6MB/s \n",
      "\u001b[K     |████████████████████████████████| 901kB 48.4MB/s \n",
      "\u001b[?25h  Building wheel for ktrain (setup.py) ... \u001b[?25l\u001b[?25hdone\n",
      "  Building wheel for langdetect (setup.py) ... \u001b[?25l\u001b[?25hdone\n",
      "  Building wheel for syntok (setup.py) ... \u001b[?25l\u001b[?25hdone\n",
      "  Building wheel for seqeval (setup.py) ... \u001b[?25l\u001b[?25hdone\n",
      "  Building wheel for keras-bert (setup.py) ... \u001b[?25l\u001b[?25hdone\n",
      "  Building wheel for keras-transformer (setup.py) ... \u001b[?25l\u001b[?25hdone\n",
      "  Building wheel for keras-pos-embd (setup.py) ... \u001b[?25l\u001b[?25hdone\n",
      "  Building wheel for keras-multi-head (setup.py) ... \u001b[?25l\u001b[?25hdone\n",
      "  Building wheel for keras-layer-normalization (setup.py) ... \u001b[?25l\u001b[?25hdone\n",
      "  Building wheel for keras-position-wise-feed-forward (setup.py) ... \u001b[?25l\u001b[?25hdone\n",
      "  Building wheel for keras-embed-sim (setup.py) ... \u001b[?25l\u001b[?25hdone\n",
      "  Building wheel for keras-self-attention (setup.py) ... \u001b[?25l\u001b[?25hdone\n"
     ]
    }
   ],
   "source": [
    "!pip install -q ktrain  "
   ]
  },
  {
   "cell_type": "code",
   "execution_count": null,
   "metadata": {
    "id": "k4TGXquMNJ4s"
   },
   "outputs": [],
   "source": [
    "########################################"
   ]
  },
  {
   "cell_type": "code",
   "execution_count": 6,
   "metadata": {
    "colab": {
     "base_uri": "https://localhost:8080/"
    },
    "id": "TxCQYFTk9KLe",
    "outputId": "f6e6e378-f2c7-4342-8911-dfef4bbd7c38"
   },
   "outputs": [
    {
     "name": "stdout",
     "output_type": "stream",
     "text": [
      "2.4.1\n"
     ]
    }
   ],
   "source": [
    "import tensorflow as tf \n",
    "#import tensorflow_addons as tfa\n",
    "print(tf.__version__)"
   ]
  },
  {
   "cell_type": "code",
   "execution_count": null,
   "metadata": {
    "id": "Pm1_hz4S9KFd"
   },
   "outputs": [],
   "source": []
  },
  {
   "cell_type": "code",
   "execution_count": 7,
   "metadata": {
    "id": "W_Ix3LMDNJ5D"
   },
   "outputs": [],
   "source": [
    "import ktrain\n",
    "from ktrain import vision as vis\n",
    "\n",
    "import numpy as np\n",
    "import pandas as pd\n"
   ]
  },
  {
   "cell_type": "code",
   "execution_count": 10,
   "metadata": {
    "id": "SMwLvTCHVfZL"
   },
   "outputs": [],
   "source": [
    "DATADIR = './mammography_images/'\n",
    "train_df = pd.read_csv(DATADIR+\"Training_set.csv\")\n",
    "test_df = pd.read_csv(DATADIR+\"Testing_set.csv\")"
   ]
  },
  {
   "cell_type": "code",
   "execution_count": 11,
   "metadata": {
    "id": "nxWIPUMuYEN0"
   },
   "outputs": [],
   "source": [
    "#train_df['filename'] = train_df['image_id']+'.jpg'\n",
    "#test_df['filename'] = test_df['image_id']+'.jpg'"
   ]
  },
  {
   "cell_type": "code",
   "execution_count": 12,
   "metadata": {
    "id": "2v3cN9K4YgDX"
   },
   "outputs": [],
   "source": [
    "train_df.to_csv(\"train.csv\", index=False, header=True) \n",
    "test_df.to_csv(\"test.csv\", index=False, header=True) "
   ]
  },
  {
   "cell_type": "code",
   "execution_count": 13,
   "metadata": {
    "colab": {
     "base_uri": "https://localhost:8080/"
    },
    "id": "VupgREUhZJ2D",
    "outputId": "2edea8fe-b567-4f32-a5bf-ab44e0f07d8f"
   },
   "outputs": [
    {
     "name": "stdout",
     "output_type": "stream",
     "text": [
      "drive  mammography_images  sample_data\ttest  test.csv\ttrain.csv\n"
     ]
    }
   ],
   "source": [
    "!ls"
   ]
  },
  {
   "cell_type": "markdown",
   "metadata": {
    "id": "CB3CAkgmNJ5S"
   },
   "source": [
    "#### Data Preprocessing"
   ]
  },
  {
   "cell_type": "code",
   "execution_count": 14,
   "metadata": {
    "id": "lEpFQxBFNJ5T"
   },
   "outputs": [],
   "source": [
    "ORIGINAL_DATA = 'train.csv'\n",
    "CONVERTED_DATA = 'train-CONVERTED.csv'\n",
    "labels = vis.preprocess_csv(ORIGINAL_DATA, \n",
    "                           CONVERTED_DATA, \n",
    "                           x_col='filename', y_col='label')"
   ]
  },
  {
   "cell_type": "code",
   "execution_count": 15,
   "metadata": {
    "colab": {
     "base_uri": "https://localhost:8080/"
    },
    "id": "LE-QqFPhNJ5j",
    "outputId": "27294bf9-51f1-41ef-9775-fa12204395cd"
   },
   "outputs": [
    {
     "name": "stdout",
     "output_type": "stream",
     "text": [
      "['Density1Benign', 'Density1Malignant', 'Density2Benign', 'Density2Malignant', 'Density3Benign', 'Density3Malignant', 'Density4Benign', 'Density4Malignant']\n",
      "      Density1Benign  Density1Malignant  ...  Density4Benign  Density4Malignant\n",
      "2496               0                  0  ...               0                  0\n",
      "3764               0                  0  ...               0                  0\n",
      "2425               0                  0  ...               0                  0\n",
      "1989               0                  0  ...               0                  0\n",
      "2060               1                  0  ...               0                  0\n",
      "\n",
      "[5 rows x 8 columns]\n",
      "['Density1Benign', 'Density1Malignant', 'Density2Benign', 'Density2Malignant', 'Density3Benign', 'Density3Malignant', 'Density4Benign', 'Density4Malignant']\n",
      "      Density1Benign  Density1Malignant  ...  Density4Benign  Density4Malignant\n",
      "653                0                  0  ...               1                  0\n",
      "4864               0                  0  ...               1                  0\n",
      "811                0                  0  ...               0                  0\n",
      "3446               0                  0  ...               0                  0\n",
      "2677               0                  0  ...               0                  0\n",
      "\n",
      "[5 rows x 8 columns]\n",
      "Found 5724 images belonging to 1 classes.\n",
      "Found 5151 validated image filenames.\n",
      "Found 573 validated image filenames.\n"
     ]
    }
   ],
   "source": [
    "train_data, val_data, preproc = vis.data.images_from_csv(\n",
    "                          CONVERTED_DATA,\n",
    "                         'filename',\n",
    "                          directory=DATADIR+'train',\n",
    "                          val_filepath = None,\n",
    "                          label_columns = labels,\n",
    "                          data_aug=vis.get_data_aug(horizontal_flip=True, vertical_flip=True),\n",
    "                          random_state=None #42\n",
    "                        )"
   ]
  },
  {
   "cell_type": "code",
   "execution_count": 16,
   "metadata": {
    "colab": {
     "base_uri": "https://localhost:8080/",
     "height": 180
    },
    "id": "7YkBWJNCNJ5v",
    "outputId": "c83dc33e-20c4-4602-ed10-cebdc2f69501"
   },
   "outputs": [
    {
     "name": "stdout",
     "output_type": "stream",
     "text": [
      "sample images:\n"
     ]
    },
    {
     "data": {
      "image/png": "[encoded data removed]",
      "text/plain": [
       "<Figure size 864x432 with 4 Axes>"
      ]
     },
     "metadata": {
      "needs_background": "light",
      "tags": []
     },
     "output_type": "display_data"
    }
   ],
   "source": [
    "print('sample images:')\n",
    "vis.show_random_images(DATADIR+'train')"
   ]
  },
  {
   "cell_type": "code",
   "execution_count": 17,
   "metadata": {
    "colab": {
     "base_uri": "https://localhost:8080/"
    },
    "id": "WzlDJH6xNJ6N",
    "outputId": "788ae9e7-8c9e-478b-ca09-3e0d470414f9"
   },
   "outputs": [
    {
     "name": "stdout",
     "output_type": "stream",
     "text": [
      "pretrained_resnet50: 50-layer Residual Network (pretrained on ImageNet)\n",
      "resnet50: 50-layer Resididual Network (randomly initialized)\n",
      "pretrained_mobilenet: MobileNet Neural Network (pretrained on ImageNet)\n",
      "mobilenet: MobileNet Neural Network (randomly initialized)\n",
      "pretrained_inception: Inception Version 3  (pretrained on ImageNet)\n",
      "inception: Inception Version 3 (randomly initialized)\n",
      "wrn22: 22-layer Wide Residual Network (randomly initialized)\n",
      "default_cnn: a default LeNet-like Convolutional Neural Network\n"
     ]
    }
   ],
   "source": [
    "# let's print the available precanned image classification models in ktrain\n",
    "vis.print_image_classifiers()"
   ]
  },
  {
   "cell_type": "code",
   "execution_count": 18,
   "metadata": {
    "colab": {
     "base_uri": "https://localhost:8080/"
    },
    "id": "73PX7P3ENJ6g",
    "outputId": "45a0bf41-ab79-4160-a83b-b7c34dba75d5"
   },
   "outputs": [
    {
     "name": "stdout",
     "output_type": "stream",
     "text": [
      "The normalization scheme has been changed for use with a pretrained_resnet50 model. If you decide to use a different model, please reload your dataset with a ktrain.vision.data.images_from* function.\n",
      "\n",
      "Is Multi-Label? False\n",
      "Is Regression? False\n",
      "Downloading data from https://storage.googleapis.com/tensorflow/keras-applications/resnet/resnet50_weights_tf_dim_ordering_tf_kernels_notop.h5\n",
      "94773248/94765736 [==============================] - 1s 0us/step\n",
      "pretrained_resnet50 model created.\n"
     ]
    }
   ],
   "source": [
    "N_CLASSES = 8\n",
    "model = vis.image_classifier('pretrained_resnet50', train_data, val_data=val_data, \n",
    "                             #metrics=[tfa.metrics.F1Score(num_classes=N_CLASSES , average=\"micro\")],\n",
    "                             #optimizer_name = 'adam',   #'sgd' ... \n",
    "                             freeze_layers=2, \n",
    "                             multilabel=False,   # !!! (True, False or None)\n",
    "                             pt_fc = [],\n",
    "                             pt_ps = [],\n",
    "                             verbose=1)\n"
   ]
  },
  {
   "cell_type": "code",
   "execution_count": 19,
   "metadata": {
    "id": "_dCzqGFzcKCH"
   },
   "outputs": [],
   "source": [
    "learner = ktrain.get_learner(model, train_data=train_data, val_data=val_data, \n",
    "                             batch_size=64, workers=8, use_multiprocessing=False)\n"
   ]
  },
  {
   "cell_type": "code",
   "execution_count": null,
   "metadata": {
    "id": "oicNYtO6NJ6q"
   },
   "outputs": [],
   "source": [
    "#learner.lr_find(max_epochs=10)\n",
    "#learner.lr_plot()"
   ]
  },
  {
   "cell_type": "code",
   "execution_count": null,
   "metadata": {
    "id": "Lpau-C06GD_3"
   },
   "outputs": [],
   "source": [
    "# Restore the model's state\n",
    "#model.load_weights('model_weights.h5')"
   ]
  },
  {
   "cell_type": "code",
   "execution_count": 20,
   "metadata": {
    "colab": {
     "base_uri": "https://localhost:8080/"
    },
    "id": "3KZebdn1NJ6_",
    "outputId": "a1ea22ea-317d-469f-ce2f-53622d9c408e"
   },
   "outputs": [
    {
     "name": "stdout",
     "output_type": "stream",
     "text": [
      "\n",
      "\n",
      "begin training using onecycle policy with max lr of 0.0001...\n",
      "Epoch 1/25\n",
      "81/81 [==============================] - 96s 710ms/step - loss: 3.8489 - accuracy: 0.2195 - val_loss: 2.8345 - val_accuracy: 0.3089\n",
      "Epoch 2/25\n",
      "81/81 [==============================] - 60s 684ms/step - loss: 2.9696 - accuracy: 0.2808 - val_loss: 2.2017 - val_accuracy: 0.4101\n",
      "Epoch 3/25\n",
      "81/81 [==============================] - 62s 681ms/step - loss: 2.5633 - accuracy: 0.3651 - val_loss: 2.0127 - val_accuracy: 0.4729\n",
      "Epoch 4/25\n",
      "81/81 [==============================] - 62s 677ms/step - loss: 1.9238 - accuracy: 0.4899 - val_loss: 2.1776 - val_accuracy: 0.5323\n",
      "Epoch 5/25\n",
      "81/81 [==============================] - 62s 673ms/step - loss: 1.3714 - accuracy: 0.6004 - val_loss: 1.9224 - val_accuracy: 0.6021\n",
      "Epoch 6/25\n",
      "81/81 [==============================] - 61s 660ms/step - loss: 1.0161 - accuracy: 0.6892 - val_loss: 2.0817 - val_accuracy: 0.5899\n",
      "Epoch 7/25\n",
      "81/81 [==============================] - 61s 664ms/step - loss: 0.7068 - accuracy: 0.7865 - val_loss: 1.2548 - val_accuracy: 0.7417\n",
      "Epoch 8/25\n",
      "81/81 [==============================] - 60s 659ms/step - loss: 0.5064 - accuracy: 0.8417 - val_loss: 1.5165 - val_accuracy: 0.7469\n",
      "Epoch 9/25\n",
      "81/81 [==============================] - 61s 661ms/step - loss: 0.3295 - accuracy: 0.8987 - val_loss: 0.6220 - val_accuracy: 0.8848\n",
      "Epoch 10/25\n",
      "81/81 [==============================] - 61s 662ms/step - loss: 0.2371 - accuracy: 0.9271 - val_loss: 0.2542 - val_accuracy: 0.9267\n",
      "Epoch 11/25\n",
      "81/81 [==============================] - 61s 661ms/step - loss: 0.1662 - accuracy: 0.9468 - val_loss: 0.0644 - val_accuracy: 0.9791\n",
      "Epoch 12/25\n",
      "81/81 [==============================] - 60s 655ms/step - loss: 0.1854 - accuracy: 0.9446 - val_loss: 0.1330 - val_accuracy: 0.9668\n",
      "Epoch 13/25\n",
      "81/81 [==============================] - 60s 655ms/step - loss: 0.1822 - accuracy: 0.9529 - val_loss: 0.9841 - val_accuracy: 0.8656\n",
      "Epoch 14/25\n",
      "81/81 [==============================] - 61s 658ms/step - loss: 0.1638 - accuracy: 0.9624 - val_loss: 0.0367 - val_accuracy: 0.9878\n",
      "Epoch 15/25\n",
      "81/81 [==============================] - 62s 675ms/step - loss: 0.1045 - accuracy: 0.9695 - val_loss: 0.0893 - val_accuracy: 0.9791\n",
      "Epoch 16/25\n",
      "81/81 [==============================] - 61s 662ms/step - loss: 0.0645 - accuracy: 0.9810 - val_loss: 0.0536 - val_accuracy: 0.9860\n",
      "Epoch 17/25\n",
      "81/81 [==============================] - 60s 653ms/step - loss: 0.0686 - accuracy: 0.9775 - val_loss: 0.1301 - val_accuracy: 0.9721\n",
      "Epoch 18/25\n",
      "81/81 [==============================] - 60s 651ms/step - loss: 0.0366 - accuracy: 0.9885 - val_loss: 0.0143 - val_accuracy: 0.9948\n",
      "Epoch 19/25\n",
      "81/81 [==============================] - 60s 652ms/step - loss: 0.0318 - accuracy: 0.9893 - val_loss: 0.0030 - val_accuracy: 1.0000\n",
      "Epoch 20/25\n",
      "81/81 [==============================] - 60s 657ms/step - loss: 0.0165 - accuracy: 0.9951 - val_loss: 0.0064 - val_accuracy: 0.9948\n",
      "Epoch 21/25\n",
      "81/81 [==============================] - 58s 634ms/step - loss: 0.0191 - accuracy: 0.9928 - val_loss: 0.0024 - val_accuracy: 0.9983\n",
      "Epoch 22/25\n",
      "81/81 [==============================] - 58s 629ms/step - loss: 0.0110 - accuracy: 0.9969 - val_loss: 0.0058 - val_accuracy: 0.9983\n",
      "Epoch 23/25\n",
      "81/81 [==============================] - 59s 642ms/step - loss: 0.0176 - accuracy: 0.9940 - val_loss: 0.0044 - val_accuracy: 0.9983\n",
      "Epoch 24/25\n",
      "81/81 [==============================] - 58s 634ms/step - loss: 0.0139 - accuracy: 0.9963 - val_loss: 0.0045 - val_accuracy: 0.9983\n",
      "Epoch 25/25\n",
      "81/81 [==============================] - 59s 637ms/step - loss: 0.0078 - accuracy: 0.9973 - val_loss: 0.0039 - val_accuracy: 0.9983\n"
     ]
    },
    {
     "data": {
      "text/plain": [
       "<tensorflow.python.keras.callbacks.History at 0x7f823037f890>"
      ]
     },
     "execution_count": 20,
     "metadata": {
      "tags": []
     },
     "output_type": "execute_result"
    }
   ],
   "source": [
    "# Можно повторять этот шаг многократно, меняя кол. эпох (продолжает обучение)\n",
    "learner.fit_onecycle(1e-4, 25)"
   ]
  },
  {
   "cell_type": "code",
   "execution_count": null,
   "metadata": {
    "id": "s21Oi48HbQde"
   },
   "outputs": [],
   "source": [
    "# Save weights to a HDF5 file\n",
    "#model.save_weights('model_weights.h5', save_format='h5')\n",
    "\n",
    "#!cp model_weights.h5 /content/gdrive/My\\ Drive/"
   ]
  },
  {
   "cell_type": "code",
   "execution_count": 21,
   "metadata": {
    "id": "_Uj3R4rW9pwt"
   },
   "outputs": [],
   "source": [
    "import matplotlib.pyplot as plt\n",
    "import seaborn as sns\n",
    "sns.set()\n",
    "%matplotlib inline"
   ]
  },
  {
   "cell_type": "code",
   "execution_count": 22,
   "metadata": {
    "colab": {
     "base_uri": "https://localhost:8080/",
     "height": 557
    },
    "id": "WsyFRbtZ9qe0",
    "outputId": "e0368738-8161-4716-b7f1-770085ba3932"
   },
   "outputs": [
    {
     "data": {
      "image/png": "[encoded data removed]",
      "text/plain": [
       "<Figure size 1080x648 with 1 Axes>"
      ]
     },
     "metadata": {
      "needs_background": "light",
      "tags": []
     },
     "output_type": "display_data"
    }
   ],
   "source": [
    "plt.figure(figsize=(15, 9))\n",
    "plt.plot(learner.history.history['loss'], label=\"train_loss\")\n",
    "plt.plot(learner.history.history['val_loss'], label=\"val_loss\")\n",
    "plt.legend()\n",
    "plt.xlabel(\"epochs\")\n",
    "plt.ylabel(\"loss\")\n",
    "plt.show()"
   ]
  },
  {
   "cell_type": "code",
   "execution_count": 23,
   "metadata": {
    "colab": {
     "base_uri": "https://localhost:8080/",
     "height": 557
    },
    "id": "Ea13n_fX9q7d",
    "outputId": "8ae8fde5-b7ec-411e-b099-24d14b3b860b"
   },
   "outputs": [
    {
     "data": {
      "image/png": "[encoded data removed]",
      "text/plain": [
       "<Figure size 1080x648 with 1 Axes>"
      ]
     },
     "metadata": {
      "needs_background": "light",
      "tags": []
     },
     "output_type": "display_data"
    }
   ],
   "source": [
    "plt.figure(figsize=(15, 9))\n",
    "plt.plot(learner.history.history['accuracy'], label=\"train_accuracy\")\n",
    "plt.plot(learner.history.history['val_accuracy'], label=\"val_accuracy\")\n",
    "plt.legend()\n",
    "plt.xlabel(\"epochs\")\n",
    "plt.ylabel(\"loss\")\n",
    "plt.show()"
   ]
  },
  {
   "cell_type": "markdown",
   "metadata": {
    "id": "OKoSlN2BVq3M"
   },
   "source": [
    "## Making Predictions\n",
    "Let's make some predictions using our model and examine results. As before, we first create a Predictor instance."
   ]
  },
  {
   "cell_type": "code",
   "execution_count": 24,
   "metadata": {
    "id": "tGAcelrVNJ7k"
   },
   "outputs": [],
   "source": [
    "predictor = ktrain.get_predictor(learner.model, preproc)"
   ]
  },
  {
   "cell_type": "code",
   "execution_count": 25,
   "metadata": {
    "colab": {
     "base_uri": "https://localhost:8080/"
    },
    "id": "ik9X1QNZbOwt",
    "outputId": "69d0eca7-823b-4d15-b455-aabc9851a139"
   },
   "outputs": [
    {
     "name": "stdout",
     "output_type": "stream",
     "text": [
      "Found 1908 images belonging to 1 classes.\n"
     ]
    },
    {
     "data": {
      "text/plain": [
       "('test/Image_1.jpg', 'Density3Benign')"
      ]
     },
     "execution_count": 25,
     "metadata": {
      "tags": []
     },
     "output_type": "execute_result"
    }
   ],
   "source": [
    "TEST_IMAGES = './test/test'\n",
    "predictions = predictor.predict_folder(TEST_IMAGES, return_proba=False)\n",
    "predictions[0]"
   ]
  },
  {
   "cell_type": "code",
   "execution_count": 36,
   "metadata": {
    "colab": {
     "base_uri": "https://localhost:8080/"
    },
    "id": "LeSPu80sf6x4",
    "outputId": "59f6fee7-c93a-4e6e-f18b-807edad85a02"
   },
   "outputs": [
    {
     "data": {
      "text/plain": [
       "[1, 'Image_1.jpg', 'Density3Benign']"
      ]
     },
     "execution_count": 36,
     "metadata": {
      "tags": []
     },
     "output_type": "execute_result"
    }
   ],
   "source": [
    "BEGIN = len('test/') \n",
    "pred = [ [int(filename[len('test/Image_'): -len('.jpg') ]),   filename[BEGIN: ], label] for filename, label in predictions]\n",
    "pred[0]"
   ]
  },
  {
   "cell_type": "code",
   "execution_count": 39,
   "metadata": {
    "colab": {
     "base_uri": "https://localhost:8080/",
     "height": 419
    },
    "id": "qD72v5byNYDX",
    "outputId": "7c72f809-720d-4b8e-830c-51899c4fcd2a"
   },
   "outputs": [
    {
     "data": {
      "text/html": [
       "<div>\n",
       "<style scoped>\n",
       "    .dataframe tbody tr th:only-of-type {\n",
       "        vertical-align: middle;\n",
       "    }\n",
       "\n",
       "    .dataframe tbody tr th {\n",
       "        vertical-align: top;\n",
       "    }\n",
       "\n",
       "    .dataframe thead th {\n",
       "        text-align: right;\n",
       "    }\n",
       "</style>\n",
       "<table border=\"1\" class=\"dataframe\">\n",
       "  <thead>\n",
       "    <tr style=\"text-align: right;\">\n",
       "      <th></th>\n",
       "      <th>filename</th>\n",
       "      <th>label</th>\n",
       "    </tr>\n",
       "  </thead>\n",
       "  <tbody>\n",
       "    <tr>\n",
       "      <th>0</th>\n",
       "      <td>Image_1.jpg</td>\n",
       "      <td>Density3Benign</td>\n",
       "    </tr>\n",
       "    <tr>\n",
       "      <th>1020</th>\n",
       "      <td>Image_2.jpg</td>\n",
       "      <td>Density1Benign</td>\n",
       "    </tr>\n",
       "    <tr>\n",
       "      <th>1131</th>\n",
       "      <td>Image_3.jpg</td>\n",
       "      <td>Density2Malignant</td>\n",
       "    </tr>\n",
       "    <tr>\n",
       "      <th>1242</th>\n",
       "      <td>Image_4.jpg</td>\n",
       "      <td>Density1Benign</td>\n",
       "    </tr>\n",
       "    <tr>\n",
       "      <th>1353</th>\n",
       "      <td>Image_5.jpg</td>\n",
       "      <td>Density3Malignant</td>\n",
       "    </tr>\n",
       "    <tr>\n",
       "      <th>...</th>\n",
       "      <td>...</td>\n",
       "      <td>...</td>\n",
       "    </tr>\n",
       "    <tr>\n",
       "      <th>1006</th>\n",
       "      <td>Image_1904.jpg</td>\n",
       "      <td>Density1Malignant</td>\n",
       "    </tr>\n",
       "    <tr>\n",
       "      <th>1007</th>\n",
       "      <td>Image_1905.jpg</td>\n",
       "      <td>Density4Benign</td>\n",
       "    </tr>\n",
       "    <tr>\n",
       "      <th>1008</th>\n",
       "      <td>Image_1906.jpg</td>\n",
       "      <td>Density2Malignant</td>\n",
       "    </tr>\n",
       "    <tr>\n",
       "      <th>1009</th>\n",
       "      <td>Image_1907.jpg</td>\n",
       "      <td>Density2Malignant</td>\n",
       "    </tr>\n",
       "    <tr>\n",
       "      <th>1010</th>\n",
       "      <td>Image_1908.jpg</td>\n",
       "      <td>Density2Malignant</td>\n",
       "    </tr>\n",
       "  </tbody>\n",
       "</table>\n",
       "<p>1908 rows × 2 columns</p>\n",
       "</div>"
      ],
      "text/plain": [
       "            filename              label\n",
       "0        Image_1.jpg     Density3Benign\n",
       "1020     Image_2.jpg     Density1Benign\n",
       "1131     Image_3.jpg  Density2Malignant\n",
       "1242     Image_4.jpg     Density1Benign\n",
       "1353     Image_5.jpg  Density3Malignant\n",
       "...              ...                ...\n",
       "1006  Image_1904.jpg  Density1Malignant\n",
       "1007  Image_1905.jpg     Density4Benign\n",
       "1008  Image_1906.jpg  Density2Malignant\n",
       "1009  Image_1907.jpg  Density2Malignant\n",
       "1010  Image_1908.jpg  Density2Malignant\n",
       "\n",
       "[1908 rows x 2 columns]"
      ]
     },
     "execution_count": 39,
     "metadata": {
      "tags": []
     },
     "output_type": "execute_result"
    }
   ],
   "source": [
    "result_file = 'KT_submission.csv'\n",
    "\n",
    "result = pd.DataFrame(pred , columns=['id', 'filename', 'label']) \n",
    "result.sort_values(by=['id'], inplace=True)\n",
    "result.drop(['id'], axis=1, inplace=True)\n",
    "\n",
    "with open(result_file, 'w') as f:\n",
    "    result.to_csv(f, index=False, header=True) \n",
    "    \n",
    "result    \n"
   ]
  },
  {
   "cell_type": "code",
   "execution_count": null,
   "metadata": {
    "id": "doMVW3vbNzta"
   },
   "outputs": [],
   "source": [
    "########################"
   ]
  },
  {
   "cell_type": "code",
   "execution_count": 40,
   "metadata": {
    "colab": {
     "base_uri": "https://localhost:8080/",
     "height": 17
    },
    "id": "pkxC_BCdN24-",
    "outputId": "88c638a8-a94b-40ae-f7c4-ec6bbb5dfabf"
   },
   "outputs": [
    {
     "data": {
      "application/javascript": [
       "\n",
       "    async function download(id, filename, size) {\n",
       "      if (!google.colab.kernel.accessAllowed) {\n",
       "        return;\n",
       "      }\n",
       "      const div = document.createElement('div');\n",
       "      const label = document.createElement('label');\n",
       "      label.textContent = `Downloading \"${filename}\": `;\n",
       "      div.appendChild(label);\n",
       "      const progress = document.createElement('progress');\n",
       "      progress.max = size;\n",
       "      div.appendChild(progress);\n",
       "      document.body.appendChild(div);\n",
       "\n",
       "      const buffers = [];\n",
       "      let downloaded = 0;\n",
       "\n",
       "      const channel = await google.colab.kernel.comms.open(id);\n",
       "      // Send a message to notify the kernel that we're ready.\n",
       "      channel.send({})\n",
       "\n",
       "      for await (const message of channel.messages) {\n",
       "        // Send a message to notify the kernel that we're ready.\n",
       "        channel.send({})\n",
       "        if (message.buffers) {\n",
       "          for (const buffer of message.buffers) {\n",
       "            buffers.push(buffer);\n",
       "            downloaded += buffer.byteLength;\n",
       "            progress.value = downloaded;\n",
       "          }\n",
       "        }\n",
       "      }\n",
       "      const blob = new Blob(buffers, {type: 'application/binary'});\n",
       "      const a = document.createElement('a');\n",
       "      a.href = window.URL.createObjectURL(blob);\n",
       "      a.download = filename;\n",
       "      div.appendChild(a);\n",
       "      a.click();\n",
       "      div.remove();\n",
       "    }\n",
       "  "
      ],
      "text/plain": [
       "<IPython.core.display.Javascript object>"
      ]
     },
     "metadata": {
      "tags": []
     },
     "output_type": "display_data"
    },
    {
     "data": {
      "application/javascript": [
       "download(\"download_085945a0-80ef-456d-a212-56db813915c5\", \"KT_submission.csv\", 59988)"
      ],
      "text/plain": [
       "<IPython.core.display.Javascript object>"
      ]
     },
     "metadata": {
      "tags": []
     },
     "output_type": "display_data"
    }
   ],
   "source": [
    "from google.colab import files\n",
    "files.download(result_file)"
   ]
  },
  {
   "cell_type": "code",
   "execution_count": null,
   "metadata": {
    "id": "XBVTS0I6U0sU"
   },
   "outputs": [],
   "source": []
  }
 ],
 "metadata": {
  "accelerator": "GPU",
  "colab": {
   "collapsed_sections": [],
   "name": "DPhi_KT_Images_Classification.ipynb",
   "provenance": []
  },
  "kernelspec": {
   "display_name": "Python 3",
   "language": "python",
   "name": "python3"
  },
  "language_info": {
   "codemirror_mode": {
    "name": "ipython",
    "version": 3
   },
   "file_extension": ".py",
   "mimetype": "text/x-python",
   "name": "python",
   "nbconvert_exporter": "python",
   "pygments_lexer": "ipython3",
   "version": "3.7.3"
  }
 },
 "nbformat": 4,
 "nbformat_minor": 1
}
